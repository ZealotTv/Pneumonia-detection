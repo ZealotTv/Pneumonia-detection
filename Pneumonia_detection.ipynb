{
  "nbformat": 4,
  "nbformat_minor": 0,
  "metadata": {
    "colab": {
      "name": " Pneumonia detection.ipynb",
      "provenance": []
    },
    "kernelspec": {
      "name": "python3",
      "display_name": "Python 3"
    },
    "language_info": {
      "name": "python"
    }
  },
  "cells": [
    {
      "cell_type": "code",
      "metadata": {
        "id": "opVvZJIpPiG7"
      },
      "source": [
        "import numpy as np\n",
        "import pandas as pd\n",
        "import tensorflow as tf\n",
        "from tensorflow import keras\n",
        "from tensorflow.keras import Input, layers\n",
        "from keras.preprocessing.image import ImageDataGenerator, load_img\n",
        "from keras.models import Sequential\n",
        "from keras.layers import Conv2D, MaxPooling2D\n",
        "from keras.layers import Activation, Dropout, Flatten, Dense\n",
        "from keras import backend as K\n",
        "import matplotlib.pyplot as plt\n",
        "import kaggle\n",
        " \n",
        "%matplotlib inline"
      ],
      "execution_count": null,
      "outputs": []
    },
    {
      "cell_type": "code",
      "metadata": {
        "id": "ZPG5VCgvZwqL"
      },
      "source": [
        "train_dir = \"chest_xray/train/\"\n",
        "validation_dir = \"chest_xray/val/\"\n",
        "test_dir = \"chest_xray/test/\"\n",
        "\n",
        "nb_train_samples = 5216\n",
        "nb_validation_samples = 16\n",
        "epochs = 20\n",
        "batch_size = 16"
      ],
      "execution_count": null,
      "outputs": []
    },
    {
      "cell_type": "code",
      "metadata": {
        "id": "ja4STbnqayl7"
      },
      "source": [
        "train_n = train_dir+'NORMAL/'\n",
        "train_p = train_dir+'PNEUMONIA/'"
      ],
      "execution_count": null,
      "outputs": []
    },
    {
      "cell_type": "code",
      "metadata": {
        "id": "q_plKKvRbe3r"
      },
      "source": [
        "img_height, img_width  = 180, 180\n",
        "\n",
        "if K.image_data_format() == 'channels_first':\n",
        "    input_shape = (3, img_height, img_width)\n",
        "else:\n",
        "    input_shape = (img_height, img_width, 3)"
      ],
      "execution_count": null,
      "outputs": []
    },
    {
      "cell_type": "code",
      "metadata": {
        "colab": {
          "base_uri": "https://localhost:8080/"
        },
        "id": "Cp0FWJi4bf3_",
        "outputId": "3af73f39-5637-4a57-95f5-0fb9dcc62844"
      },
      "source": [
        "train_datagen = ImageDataGenerator(\n",
        "    rescale=1. / 255,\n",
        "    shear_range=0.2,\n",
        "    zoom_range=0.2,\n",
        "    horizontal_flip=True)\n",
        "\n",
        "test_datagen = ImageDataGenerator(rescale=1. / 255)\n",
        "val_datagen = ImageDataGenerator(rescale=1. / 255)\n",
        "\n",
        "train_generator = train_datagen.flow_from_directory(\n",
        "    train_data_dir,\n",
        "    target_size=(img_width, img_height),\n",
        "    batch_size=batch_size,\n",
        "    class_mode='binary')\n",
        "\n",
        "validation_generator = val_datagen.flow_from_directory(\n",
        "    validation_data_dir,\n",
        "    target_size=(img_height, img_width),\n",
        "    batch_size=batch_size,\n",
        "    class_mode='binary')\n",
        "\n",
        "test_generator = test_datagen.flow_from_directory(\n",
        "    test_data_dir,\n",
        "    target_size=(img_height, img_width),\n",
        "    batch_size=batch_size,\n",
        "    class_mode='binary')"
      ],
      "execution_count": null,
      "outputs": [
        {
          "output_type": "stream",
          "text": [
            "Found 5216 images belonging to 2 classes.\n",
            "Found 16 images belonging to 2 classes.\n",
            "Found 624 images belonging to 2 classes.\n"
          ],
          "name": "stdout"
        }
      ]
    },
    {
      "cell_type": "code",
      "metadata": {
        "colab": {
          "base_uri": "https://localhost:8080/"
        },
        "id": "xsjFdvj3brep",
        "outputId": "7134534a-9f01-4db8-9f16-abadebf5681c"
      },
      "source": [
        "model = Sequential()\n",
        "model.add(Conv2D(32, (3, 3), input_shape=input_shape))\n",
        "model.add(Activation('relu'))\n",
        "model.add(MaxPooling2D(pool_size=(2, 2)))\n",
        "\n",
        "model.add(Conv2D(32, (3, 3)))\n",
        "model.add(Activation('relu'))\n",
        "model.add(MaxPooling2D(pool_size=(2, 2)))\n",
        "\n",
        "model.add(Conv2D(64, (3, 3)))\n",
        "model.add(Activation('relu'))\n",
        "model.add(MaxPooling2D(pool_size=(2, 2)))\n",
        "\n",
        "model.add(Flatten())\n",
        "model.add(Dense(64))\n",
        "model.add(Activation('relu'))\n",
        "model.add(Dropout(0.5))\n",
        "model.add(Dense(1))\n",
        "model.add(Activation('sigmoid'))\n",
        "\n",
        "model.summary()"
      ],
      "execution_count": null,
      "outputs": [
        {
          "output_type": "stream",
          "text": [
            "Model: \"sequential_2\"\n",
            "_________________________________________________________________\n",
            "Layer (type)                 Output Shape              Param #   \n",
            "=================================================================\n",
            "conv2d (Conv2D)              (None, 178, 178, 32)      896       \n",
            "_________________________________________________________________\n",
            "activation (Activation)      (None, 178, 178, 32)      0         \n",
            "_________________________________________________________________\n",
            "max_pooling2d (MaxPooling2D) (None, 89, 89, 32)        0         \n",
            "_________________________________________________________________\n",
            "conv2d_1 (Conv2D)            (None, 87, 87, 32)        9248      \n",
            "_________________________________________________________________\n",
            "activation_1 (Activation)    (None, 87, 87, 32)        0         \n",
            "_________________________________________________________________\n",
            "max_pooling2d_1 (MaxPooling2 (None, 43, 43, 32)        0         \n",
            "_________________________________________________________________\n",
            "conv2d_2 (Conv2D)            (None, 41, 41, 64)        18496     \n",
            "_________________________________________________________________\n",
            "activation_2 (Activation)    (None, 41, 41, 64)        0         \n",
            "_________________________________________________________________\n",
            "max_pooling2d_2 (MaxPooling2 (None, 20, 20, 64)        0         \n",
            "_________________________________________________________________\n",
            "flatten (Flatten)            (None, 25600)             0         \n",
            "_________________________________________________________________\n",
            "dense (Dense)                (None, 64)                1638464   \n",
            "_________________________________________________________________\n",
            "activation_3 (Activation)    (None, 64)                0         \n",
            "_________________________________________________________________\n",
            "dropout (Dropout)            (None, 64)                0         \n",
            "_________________________________________________________________\n",
            "dense_1 (Dense)              (None, 1)                 65        \n",
            "_________________________________________________________________\n",
            "activation_4 (Activation)    (None, 1)                 0         \n",
            "=================================================================\n",
            "Total params: 1,667,169\n",
            "Trainable params: 1,667,169\n",
            "Non-trainable params: 0\n",
            "_________________________________________________________________\n"
          ],
          "name": "stdout"
        }
      ]
    },
    {
      "cell_type": "code",
      "metadata": {
        "id": "DD1MHmGFcCRF"
      },
      "source": [
        "model.compile(loss='binary_crossentropy',\n",
        "              optimizer='rmsprop',\n",
        "              metrics=['accuracy'])"
      ],
      "execution_count": null,
      "outputs": []
    },
    {
      "cell_type": "code",
      "metadata": {
        "colab": {
          "base_uri": "https://localhost:8080/"
        },
        "id": "dfhxQx4XcEGy",
        "outputId": "cbc4f5e1-8d29-4c74-995c-c21ca10ecbc3"
      },
      "source": [
        "model.fit_generator(\n",
        "    train_generator,\n",
        "    steps_per_epoch=nb_train_samples // batch_size,\n",
        "    epochs=epochs,\n",
        "    validation_data=validation_generator,\n",
        "    validation_steps=nb_validation_samples // batch_size)"
      ],
      "execution_count": null,
      "outputs": [
        {
          "output_type": "stream",
          "text": [
            "/usr/local/lib/python3.7/dist-packages/tensorflow/python/keras/engine/training.py:1844: UserWarning: `Model.fit_generator` is deprecated and will be removed in a future version. Please use `Model.fit`, which supports generators.\n",
            "  warnings.warn('`Model.fit_generator` is deprecated and '\n"
          ],
          "name": "stderr"
        },
        {
          "output_type": "stream",
          "text": [
            "Epoch 1/20\n",
            "326/326 [==============================] - 284s 865ms/step - loss: 0.5295 - accuracy: 0.7793 - val_loss: 0.7564 - val_accuracy: 0.7500\n",
            "Epoch 2/20\n",
            "326/326 [==============================] - 280s 858ms/step - loss: 0.3041 - accuracy: 0.8826 - val_loss: 0.3623 - val_accuracy: 0.8125\n",
            "Epoch 3/20\n",
            "326/326 [==============================] - 282s 864ms/step - loss: 0.2712 - accuracy: 0.8888 - val_loss: 0.5734 - val_accuracy: 0.8125\n",
            "Epoch 4/20\n",
            "326/326 [==============================] - 281s 860ms/step - loss: 0.2551 - accuracy: 0.9082 - val_loss: 2.0462 - val_accuracy: 0.6250\n",
            "Epoch 5/20\n",
            "326/326 [==============================] - 286s 876ms/step - loss: 0.2281 - accuracy: 0.9159 - val_loss: 0.4376 - val_accuracy: 0.8125\n",
            "Epoch 6/20\n",
            "326/326 [==============================] - 285s 872ms/step - loss: 0.2406 - accuracy: 0.9170 - val_loss: 0.5325 - val_accuracy: 0.8125\n",
            "Epoch 7/20\n",
            "326/326 [==============================] - 284s 871ms/step - loss: 0.2099 - accuracy: 0.9206 - val_loss: 0.9842 - val_accuracy: 0.7500\n",
            "Epoch 8/20\n",
            "326/326 [==============================] - 279s 854ms/step - loss: 0.2057 - accuracy: 0.9238 - val_loss: 1.0371 - val_accuracy: 0.7500\n",
            "Epoch 9/20\n",
            "326/326 [==============================] - 278s 852ms/step - loss: 0.1989 - accuracy: 0.9355 - val_loss: 1.0722 - val_accuracy: 0.7500\n",
            "Epoch 10/20\n",
            "326/326 [==============================] - 278s 852ms/step - loss: 0.2231 - accuracy: 0.9271 - val_loss: 1.4159 - val_accuracy: 0.6875\n",
            "Epoch 11/20\n",
            "326/326 [==============================] - 278s 851ms/step - loss: 0.2195 - accuracy: 0.9341 - val_loss: 3.5423 - val_accuracy: 0.6250\n",
            "Epoch 12/20\n",
            "326/326 [==============================] - 278s 851ms/step - loss: 0.2028 - accuracy: 0.9388 - val_loss: 1.9709 - val_accuracy: 0.6875\n",
            "Epoch 13/20\n",
            "326/326 [==============================] - 277s 849ms/step - loss: 0.1818 - accuracy: 0.9378 - val_loss: 0.8815 - val_accuracy: 0.7500\n",
            "Epoch 14/20\n",
            "326/326 [==============================] - 277s 847ms/step - loss: 0.1813 - accuracy: 0.9411 - val_loss: 0.8047 - val_accuracy: 0.7500\n",
            "Epoch 15/20\n",
            "326/326 [==============================] - 277s 848ms/step - loss: 0.1936 - accuracy: 0.9362 - val_loss: 1.8701 - val_accuracy: 0.7500\n",
            "Epoch 16/20\n",
            "326/326 [==============================] - 277s 849ms/step - loss: 0.1997 - accuracy: 0.9374 - val_loss: 0.7552 - val_accuracy: 0.7500\n",
            "Epoch 17/20\n",
            "326/326 [==============================] - 278s 853ms/step - loss: 0.2209 - accuracy: 0.9399 - val_loss: 2.0417 - val_accuracy: 0.6250\n",
            "Epoch 18/20\n",
            "326/326 [==============================] - 277s 850ms/step - loss: 0.1848 - accuracy: 0.9468 - val_loss: 2.0772 - val_accuracy: 0.6875\n",
            "Epoch 19/20\n",
            "326/326 [==============================] - 276s 847ms/step - loss: 0.2125 - accuracy: 0.9338 - val_loss: 2.1032 - val_accuracy: 0.6875\n",
            "Epoch 20/20\n",
            "326/326 [==============================] - 278s 851ms/step - loss: 0.1796 - accuracy: 0.9429 - val_loss: 1.8168 - val_accuracy: 0.7500\n"
          ],
          "name": "stdout"
        },
        {
          "output_type": "execute_result",
          "data": {
            "text/plain": [
              "<tensorflow.python.keras.callbacks.History at 0x7f0cc8059a50>"
            ]
          },
          "metadata": {
            "tags": []
          },
          "execution_count": 35
        }
      ]
    }
  ]
}